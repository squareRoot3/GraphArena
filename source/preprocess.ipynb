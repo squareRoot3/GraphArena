{
 "cells": [
  {
   "cell_type": "code",
   "execution_count": 1,
   "metadata": {},
   "outputs": [],
   "source": [
    "from tasks import *\n",
    "from openai import OpenAI\n",
    "from collections import defaultdict\n",
    "import networkx as nx\n",
    "import random, os\n",
    "import pickle\n",
    "import walker\n",
    "from collections import Counter\n",
    "from rdkit import Chem\n",
    "from rdkit.Chem import rdFMCS\n",
    "from collections import Counter\n",
    "from ogb.lsc import PCQM4Mv2Dataset\n",
    "import random\n",
    "import pickle\n",
    "import networkx as nx\n",
    "from collections import defaultdict\n",
    "\n",
    "response_dict = defaultdict(dict)\n",
    "def set_seed(seed):\n",
    "    random.seed(seed)\n",
    "    os.environ['PYTHONHASHSEED'] = str(seed)\n",
    "set_seed(0)"
   ]
  },
  {
   "cell_type": "code",
   "execution_count": null,
   "metadata": {},
   "outputs": [],
   "source": [
    "\n",
    "def smiles_to_networkx(smiles, perm=False):\n",
    "    mol = Chem.MolFromSmiles(smiles)\n",
    "    G = nx.Graph()\n",
    "    for atom in mol.GetAtoms():\n",
    "        G.add_node(atom.GetIdx(), label=atom.GetSymbol())\n",
    "    for bond in mol.GetBonds():\n",
    "        G.add_edge(bond.GetBeginAtomIdx(), bond.GetEndAtomIdx(), label=bond.GetBondType())\n",
    "    if perm:\n",
    "        perm = list(range(G.number_of_nodes()))\n",
    "        random.shuffle(perm)\n",
    "        G = nx.relabel_nodes(G, dict(zip(range(G.number_of_nodes()), perm)))\n",
    "    return G\n",
    "\n",
    "molecular_set = PCQM4Mv2Dataset(root='dataset', only_smiles=True)\n",
    "graphs = []\n",
    "print(len(molecular_set))\n",
    "node_num_dict = defaultdict(list)\n",
    "knt = 0\n",
    "for mol in molecular_set:\n",
    "    knt += 1\n",
    "    if knt%1000 == 0:\n",
    "        print(knt)\n",
    "    g = smiles_to_networkx(mol[0])\n",
    "    node_num_dict[g.number_of_nodes()].append(g)\n",
    "\n",
    "with open('source/molecular_graphs.pkl', 'wb') as f:\n",
    "    pickle.dump(node_num_dict, f)"
   ]
  },
  {
   "cell_type": "code",
   "execution_count": null,
   "metadata": {},
   "outputs": [],
   "source": [
    "triple = []\n",
    "with open('dataset/rel_triples_1', 'r', encoding='UTF-8') as f:\n",
    "    for line in f.readlines():\n",
    "        head, rel, tail = line.strip().split('\\t')\n",
    "        head = head.split('resource/')[-1].replace('_', ' ')\n",
    "        tail = tail.split('resource/')[-1].replace('_', ' ')\n",
    "        rel = rel.split('ontology/')[-1]\n",
    "        triple.append((head, tail, rel))\n",
    "# summarize the enttiy and relation\n",
    "entity = set()\n",
    "relation = set()\n",
    "for h, t, r in triple:\n",
    "    entity.add(h)\n",
    "    entity.add(t)\n",
    "    relation.add(r)\n",
    "len(entity), len(relation), len(triple)\n",
    "# construct a network graph based on the triplet\n",
    "import networkx as nx\n",
    "G = nx.DiGraph()\n",
    "for h, t, r in triple:\n",
    "    G.add_edge(h, t, relation=r)\n",
    "# construct a network graph based on the triplet\n",
    "import networkx as nx\n",
    "G = nx.DiGraph()\n",
    "for h, t, r in triple:\n",
    "    G.add_edge(h, t, relation=r)\n",
    "G.number_of_edges(), G.number_of_nodes()"
   ]
  }
 ],
 "metadata": {
  "kernelspec": {
   "display_name": "base",
   "language": "python",
   "name": "python3"
  },
  "language_info": {
   "codemirror_mode": {
    "name": "ipython",
    "version": 3
   },
   "file_extension": ".py",
   "mimetype": "text/x-python",
   "name": "python",
   "nbconvert_exporter": "python",
   "pygments_lexer": "ipython3",
   "version": "3.10.9"
  }
 },
 "nbformat": 4,
 "nbformat_minor": 2
}
